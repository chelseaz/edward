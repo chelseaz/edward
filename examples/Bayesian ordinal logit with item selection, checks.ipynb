{
 "cells": [
  {
   "cell_type": "code",
   "execution_count": 1,
   "metadata": {},
   "outputs": [],
   "source": [
    "from __future__ import absolute_import\n",
    "from __future__ import division\n",
    "from __future__ import print_function\n",
    "\n",
    "%matplotlib inline\n",
    "import edward as ed\n",
    "import matplotlib.pyplot as plt\n",
    "import numpy as np\n",
    "import pprint\n",
    "import scipy\n",
    "import tensorflow as tf\n",
    "\n",
    "from sklearn.model_selection import train_test_split\n",
    "from edward.models import Bernoulli, Normal, MultivariateNormalTriL"
   ]
  },
  {
   "cell_type": "code",
   "execution_count": 2,
   "metadata": {},
   "outputs": [],
   "source": [
    "class FLAGS:\n",
    "    N=1000   # Number of data points\n",
    "    D=5     # Number of features\n"
   ]
  },
  {
   "cell_type": "code",
   "execution_count": 3,
   "metadata": {},
   "outputs": [],
   "source": [
    "def build_toy_dataset(N, D, noise_std=1, max_level=7):\n",
    "    X = np.random.uniform(-6, 6, size=(N, D))\n",
    "    w = np.random.uniform(-1, 1, size=D)\n",
    "    b = np.random.uniform(-4, 4)\n",
    "    epsilon = np.random.normal(0, noise_std, size=N)\n",
    "    \n",
    "    # levels will be 0, 1, ..., max_level\n",
    "    levels = np.array(range(max_level))\n",
    "\n",
    "    # note, due to gaussian noise, this is not generated from ordered logit model\n",
    "    thresholds = levels[:,np.newaxis]\n",
    "    logits = np.dot(X, w) + b + epsilon\n",
    "    y = (logits > thresholds).astype(int).sum(axis=0)\n",
    "    # level is the last TRUE in each row, which is also the row sum\n",
    "    \n",
    "    return X, y"
   ]
  },
  {
   "cell_type": "code",
   "execution_count": 4,
   "metadata": {},
   "outputs": [],
   "source": [
    "ed.set_seed(42)\n",
    "\n",
    "# DATA\n",
    "X_all, y_all = build_toy_dataset(2*FLAGS.N, FLAGS.D)"
   ]
  },
  {
   "cell_type": "code",
   "execution_count": 5,
   "metadata": {},
   "outputs": [
    {
     "data": {
      "image/png": "[encoded data removed]",
      "text/plain": [
       "<Figure size 432x288 with 1 Axes>"
      ]
     },
     "metadata": {
      "needs_background": "light"
     },
     "output_type": "display_data"
    }
   ],
   "source": [
    "plt.hist(y_all)\n",
    "plt.show()"
   ]
  },
  {
   "cell_type": "code",
   "execution_count": 6,
   "metadata": {},
   "outputs": [],
   "source": [
    "from edward.models import RandomVariable\n",
    "from tensorflow.contrib.distributions import Distribution\n",
    "\n",
    "class NonTFOrdinalLogit(RandomVariable, Distribution):\n",
    "    def __init__(self, logits, cutpoints, values=None):\n",
    "        self._logits = logits\n",
    "        self._cutpoints = cutpoints\n",
    "        if values is None:\n",
    "            values = range(len(cutpoints)+1)\n",
    "        self.value_to_level = {v:l for l, v in enumerate(values)}\n",
    "\n",
    "    def _data_size(self):\n",
    "        return len(self._logits)\n",
    "        \n",
    "    def _cumul_probs(self):\n",
    "        logits_with_cutpoints = self._logits[:,np.newaxis] + self._cutpoints  # using broadcasting\n",
    "        return scipy.special.expit(logits_with_cutpoints)\n",
    "        \n",
    "    def _log_prob(self, value):\n",
    "        cumul_probs = self._cumul_probs()\n",
    "        level_probs = np.hstack([cumul_probs, np.ones((self._data_size(), 1))]) - \\\n",
    "                        np.hstack([np.zeros((self._data_size(), 1)), cumul_probs])\n",
    "        levels = [self.value_to_level[v] for v in value]\n",
    "        selected_probs = np.choose(levels, level_probs.T)\n",
    "        return np.sum(np.log(selected_probs))\n",
    "\n",
    "    def _sample_n(self, n, seed=None):\n",
    "        cumul_probs = self._cumul_probs()\n",
    "        \n",
    "        def draw_one():\n",
    "            sample_probs = np.random.uniform(size=(self._data_size(), 1))\n",
    "            sample_y = (sample_probs > cumul_probs).astype(int).sum(axis=1)\n",
    "            return sample_y\n",
    "        \n",
    "        return np.vstack([draw_one() for _ in range(n)])"
   ]
  },
  {
   "cell_type": "code",
   "execution_count": 7,
   "metadata": {},
   "outputs": [],
   "source": [
    "n_cutpoints = 8\n",
    "test_logits = np.random.randn(FLAGS.N)\n",
    "test_cutpoints = np.linspace(0,1,n_cutpoints)"
   ]
  },
  {
   "cell_type": "code",
   "execution_count": 8,
   "metadata": {},
   "outputs": [],
   "source": [
    "nontf_ol = NonTFOrdinalLogit(logits=test_logits, cutpoints=test_cutpoints)"
   ]
  },
  {
   "cell_type": "code",
   "execution_count": 9,
   "metadata": {
    "scrolled": true
   },
   "outputs": [
    {
     "data": {
      "text/plain": [
       "array([[0.65397389, 0.68555302, 0.7155039 , ..., 0.79426675, 0.81663238,\n",
       "        0.83706539],\n",
       "       [0.9107323 , 0.92168514, 0.93139535, ..., 0.95421336, 0.96006516,\n",
       "        0.96519635],\n",
       "       [0.74303756, 0.76935518, 0.79372567, ..., 0.85521492, 0.87202236,\n",
       "        0.88713619],\n",
       "       ...,\n",
       "       [0.63383404, 0.66631334, 0.6972876 , ..., 0.77953974, 0.8031095 ,\n",
       "        0.82472596],\n",
       "       [0.47938332, 0.51508133, 0.55062611, ..., 0.65289119, 0.68452146,\n",
       "        0.71452968],\n",
       "       [0.15378634, 0.17330963, 0.19474103, ..., 0.27073002, 0.29983898,\n",
       "        0.33065865]])"
      ]
     },
     "execution_count": 9,
     "metadata": {},
     "output_type": "execute_result"
    }
   ],
   "source": [
    "nontf_ol._cumul_probs()"
   ]
  },
  {
   "cell_type": "code",
   "execution_count": 10,
   "metadata": {
    "scrolled": true
   },
   "outputs": [
    {
     "data": {
      "text/plain": [
       "array([[0, 0, 0, ..., 0, 0, 8],\n",
       "       [0, 0, 0, ..., 2, 7, 8],\n",
       "       [0, 0, 0, ..., 0, 0, 0],\n",
       "       ...,\n",
       "       [0, 0, 0, ..., 0, 4, 0],\n",
       "       [0, 0, 0, ..., 0, 8, 8],\n",
       "       [0, 0, 0, ..., 8, 8, 0]])"
      ]
     },
     "execution_count": 10,
     "metadata": {},
     "output_type": "execute_result"
    }
   ],
   "source": [
    "sample_n = 200\n",
    "samples = nontf_ol._sample_n(sample_n)\n",
    "samples"
   ]
  },
  {
   "cell_type": "code",
   "execution_count": 11,
   "metadata": {},
   "outputs": [
    {
     "data": {
      "text/plain": [
       "-1273.6080842325514"
      ]
     },
     "execution_count": 11,
     "metadata": {},
     "output_type": "execute_result"
    }
   ],
   "source": [
    "nontf_ol._log_prob(samples[0])"
   ]
  },
  {
   "cell_type": "code",
   "execution_count": 12,
   "metadata": {},
   "outputs": [],
   "source": [
    "from edward.models import RandomVariable\n",
    "from tensorflow.python.framework import dtypes\n",
    "from tensorflow.contrib.distributions import Distribution, NOT_REPARAMETERIZED\n",
    "\n",
    "class distributions_OrdinalLogit(Distribution):\n",
    "    def __init__(self, logits, cutpoints, name=\"OrdinalLogit\"):\n",
    "        self._logits = logits\n",
    "        self._cutpoints = cutpoints\n",
    "        \n",
    "        parameters = dict(locals())\n",
    "        super(distributions_OrdinalLogit, self).__init__(\n",
    "            dtype=dtypes.int32,\n",
    "            reparameterization_type=NOT_REPARAMETERIZED,\n",
    "            validate_args=False,\n",
    "            allow_nan_stats=True,\n",
    "            parameters=parameters,\n",
    "            graph_parents=[self._logits, self._cutpoints],\n",
    "            name=name\n",
    "        )\n",
    "\n",
    "    def _data_size(self):\n",
    "        return self._logits.shape[0].value\n",
    "        \n",
    "    def _cumul_probs(self):\n",
    "        logits_with_cutpoints = tf.expand_dims(self._logits, -1) + self._cutpoints  # using broadcasting\n",
    "        return tf.sigmoid(logits_with_cutpoints)\n",
    "        \n",
    "    def _log_prob(self, value):        \n",
    "        cumul_probs = self._cumul_probs()\n",
    "        level_probs = tf.concat([cumul_probs, tf.expand_dims(tf.ones([self._data_size()]), -1)], axis=1) - \\\n",
    "                        tf.concat([tf.expand_dims(tf.zeros([self._data_size()]), -1), cumul_probs], axis=1)\n",
    "        levels = value\n",
    "        indices_2d = tf.transpose(tf.stack([tf.range(self._data_size()), levels]))  # n x 2\n",
    "        selected_probs = tf.gather_nd(level_probs, indices_2d)\n",
    "        \n",
    "        return tf.reduce_sum(tf.log(selected_probs))\n",
    "    \n",
    "    def _sample_n(self, n, seed=None):\n",
    "        cumul_probs = self._cumul_probs()\n",
    "        new_shape = tf.constant([n, self._data_size()])\n",
    "        sample_probs = tf.expand_dims(tf.random_uniform(new_shape), -1)\n",
    "        booleans = tf.greater(sample_probs, cumul_probs)  # using broadcasting\n",
    "        samples = tf.reduce_sum(tf.cast(booleans, dtype=dtypes.int32), axis=-1)\n",
    "        return samples\n",
    "    \n",
    "    def mean(self):\n",
    "        # Using the identity that the mean is \\sum_{i=0}^k P(X > i)\n",
    "        cumul_probs = self._cumul_probs()\n",
    "        means = tf.reduce_sum(1-cumul_probs, axis=1)\n",
    "        return means\n",
    "        \n",
    "\n",
    "def __init__(self, *args, **kwargs):\n",
    "    RandomVariable.__init__(self, *args, **kwargs)\n",
    "\n",
    "_name = 'OrdinalLogit'\n",
    "_candidate = distributions_OrdinalLogit\n",
    "__init__.__doc__ = _candidate.__init__.__doc__\n",
    "_globals = globals()\n",
    "_params = {'__doc__': _candidate.__doc__,\n",
    "           '__init__': __init__,\n",
    "           'support': 'countable'}\n",
    "_globals[_name] = type(_name, (RandomVariable, _candidate), _params)"
   ]
  },
  {
   "cell_type": "code",
   "execution_count": 13,
   "metadata": {
    "scrolled": true
   },
   "outputs": [],
   "source": [
    "# On some fake data, verify implementations of ordinal logit agree\n",
    "logits = tf.placeholder(tf.float32, [FLAGS.N])\n",
    "cutpoints = tf.placeholder(tf.float32, [n_cutpoints])\n",
    "\n",
    "ol = OrdinalLogit(logits=logits, cutpoints=cutpoints)\n",
    "with tf.Session() as sess:\n",
    "    feed_dict = {logits: test_logits, cutpoints: test_cutpoints}\n",
    "    cumul_probs2 = sess.run(ol._cumul_probs(), feed_dict=feed_dict)\n",
    "    samples2 = sess.run(ol._sample_n(sample_n), feed_dict=feed_dict)\n",
    "    first_sample = tf.cast(samples[0], dtypes.int32)\n",
    "    logprob2 = sess.run(ol._log_prob(first_sample), feed_dict=feed_dict)"
   ]
  },
  {
   "cell_type": "code",
   "execution_count": 14,
   "metadata": {
    "scrolled": false
   },
   "outputs": [
    {
     "data": {
      "text/plain": [
       "True"
      ]
     },
     "execution_count": 14,
     "metadata": {},
     "output_type": "execute_result"
    }
   ],
   "source": [
    "np.allclose(cumul_probs2, nontf_ol._cumul_probs())"
   ]
  },
  {
   "cell_type": "code",
   "execution_count": 15,
   "metadata": {
    "scrolled": true
   },
   "outputs": [
    {
     "data": {
      "text/plain": [
       "True"
      ]
     },
     "execution_count": 15,
     "metadata": {},
     "output_type": "execute_result"
    }
   ],
   "source": [
    "np.allclose(logprob2, nontf_ol._log_prob(samples[0]))"
   ]
  },
  {
   "cell_type": "code",
   "execution_count": 16,
   "metadata": {},
   "outputs": [
    {
     "name": "stderr",
     "output_type": "stream",
     "text": [
      "/Users/cyz/edward/edward/lib/python3.6/site-packages/scipy/stats/stats.py:1713: FutureWarning: Using a non-tuple sequence for multidimensional indexing is deprecated; use `arr[tuple(seq)]` instead of `arr[seq]`. In the future this will be interpreted as an array index, `arr[np.array(seq)]`, which will result either in an error or a different result.\n",
      "  return np.add.reduce(sorted[indexer] * weights, axis=axis) / sumval\n"
     ]
    },
    {
     "data": {
      "text/plain": [
       "<matplotlib.axes._subplots.AxesSubplot at 0x121d06630>"
      ]
     },
     "execution_count": 16,
     "metadata": {},
     "output_type": "execute_result"
    },
    {
     "data": {
      "image/png": "[encoded data removed]",
      "text/plain": [
       "<Figure size 864x432 with 1 Axes>"
      ]
     },
     "metadata": {
      "needs_background": "light"
     },
     "output_type": "display_data"
    }
   ],
   "source": [
    "import seaborn as sns\n",
    "plt.rcParams[\"figure.figsize\"] = (12, 6)\n",
    "sns.violinplot(data=samples2[:,:10])"
   ]
  },
  {
   "cell_type": "code",
   "execution_count": 17,
   "metadata": {},
   "outputs": [
    {
     "data": {
      "text/plain": [
       "<matplotlib.axes._subplots.AxesSubplot at 0x122a5f358>"
      ]
     },
     "execution_count": 17,
     "metadata": {},
     "output_type": "execute_result"
    },
    {
     "data": {
      "image/png": "[encoded data removed]",
      "text/plain": [
       "<Figure size 864x432 with 1 Axes>"
      ]
     },
     "metadata": {
      "needs_background": "light"
     },
     "output_type": "display_data"
    }
   ],
   "source": [
    "sns.violinplot(data=samples[:,:10])"
   ]
  },
  {
   "cell_type": "code",
   "execution_count": 19,
   "metadata": {
    "scrolled": true
   },
   "outputs": [
    {
     "name": "stderr",
     "output_type": "stream",
     "text": [
      "/Users/cyz/edward/edward/lib/python3.6/site-packages/sklearn/model_selection/_split.py:2179: FutureWarning: From version 0.21, test_size will always complement train_size unless both are specified.\n",
      "  FutureWarning)\n",
      "/Users/cyz/edward/edward/lib/python3.6/site-packages/edward/util/random_variables.py:52: FutureWarning: Conversion of the second argument of issubdtype from `float` to `np.floating` is deprecated. In future, it will be treated as `np.float64 == np.dtype(float).type`.\n",
      "  not np.issubdtype(value.dtype, np.float) and \\\n",
      "/Users/cyz/edward/edward/lib/python3.6/site-packages/edward/util/random_variables.py:53: FutureWarning: Conversion of the second argument of issubdtype from `int` to `np.signedinteger` is deprecated. In future, it will be treated as `np.int64 == np.dtype(int).type`.\n",
      "  not np.issubdtype(value.dtype, np.int) and \\\n"
     ]
    },
    {
     "name": "stdout",
     "output_type": "stream",
     "text": [
      "1000/1000 [100%] ██████████████████████████████ Elapsed: 1s | Loss: 2951.881\n"
     ]
    }
   ],
   "source": [
    "X_train, X_rest, y_train, y_rest = train_test_split(X_all, y_all, train_size=FLAGS.N)\n",
    "\n",
    "# MODEL\n",
    "X = tf.placeholder(tf.float32, [FLAGS.N, FLAGS.D])\n",
    "w = Normal(loc=tf.zeros(FLAGS.D), scale=tf.ones(FLAGS.D))\n",
    "# b = Normal(loc=tf.zeros([1]), scale=tf.ones([1]))\n",
    "# y = Bernoulli(logits=ed.dot(X, w) + b)\n",
    "\n",
    "# define cutpoints from prior suggested by Carpenter\n",
    "y = OrdinalLogit(logits=ed.dot(X, w), cutpoints=cutpoints)   # b gets absorbed into cutpoints\n",
    "\n",
    "# INFERENCE\n",
    "# qb = Normal(\n",
    "#     loc=tf.Variable(tf.zeros([1])), \n",
    "#     scale=tf.Variable(tf.ones([1])))  # should probably initialize to random values\n",
    "\n",
    "qw = MultivariateNormalTriL(\n",
    "    loc=tf.Variable(tf.random_normal([FLAGS.D])),\n",
    "    scale_tril=tf.Variable(tf.random_normal([FLAGS.D, FLAGS.D])))\n",
    "\n",
    "# inference = ed.KLqp({w: qw, b: qb}, data={X: X_train, y: y_train})\n",
    "inference = ed.Laplace({w: qw}, data={X: X_train, y: y_train, cutpoints: test_cutpoints})\n",
    "inference.initialize(n_print=10, n_iter=600)\n",
    "\n",
    "inference.run()\n"
   ]
  },
  {
   "cell_type": "code",
   "execution_count": 20,
   "metadata": {},
   "outputs": [],
   "source": [
    "# Hmm, is this due to bug or lack of prior on cutpoints?\n",
    "# Replicate Bernoulli with OrdinalLogit...\n",
    "# Wait, no error anymore!\n",
    "# Should still replicate result with Bernoulli as a sanity check."
   ]
  },
  {
   "cell_type": "code",
   "execution_count": 22,
   "metadata": {
    "scrolled": true
   },
   "outputs": [
    {
     "data": {
      "text/plain": [
       "array([[ 0.01378963,  0.        ,  0.        ,  0.        ,  0.        ],\n",
       "       [ 0.00059686,  0.01382207,  0.        ,  0.        ,  0.        ],\n",
       "       [ 0.00151288,  0.00076892,  0.0141832 ,  0.        ,  0.        ],\n",
       "       [ 0.00020055, -0.00050691, -0.0007917 ,  0.01408978,  0.        ],\n",
       "       [-0.00060369,  0.00020785, -0.00021413, -0.0003165 ,  0.01398466]],\n",
       "      dtype=float32)"
      ]
     },
     "execution_count": 22,
     "metadata": {},
     "output_type": "execute_result"
    }
   ],
   "source": [
    "# these give same result\n",
    "qw.scale.to_dense().eval()\n",
    "tf.cholesky(qw.covariance()).eval()"
   ]
  },
  {
   "cell_type": "code",
   "execution_count": 23,
   "metadata": {},
   "outputs": [
    {
     "data": {
      "text/plain": [
       "array([[ 1.90153965e-04,  8.23054324e-06,  2.08620841e-05,\n",
       "         2.76547166e-06, -8.32460046e-06],\n",
       "       [ 8.23054324e-06,  1.91405852e-04,  1.15310340e-05,\n",
       "        -6.88681575e-06,  2.51253005e-06],\n",
       "       [ 2.08620841e-05,  1.15310340e-05,  2.04043201e-04,\n",
       "        -1.13152755e-05, -3.79057292e-06],\n",
       "       [ 2.76547166e-06, -6.88681575e-06, -1.13152755e-05,\n",
       "         1.99445974e-04, -4.51628148e-06],\n",
       "       [-8.32460046e-06,  2.51253005e-06, -3.79057315e-06,\n",
       "        -4.51628148e-06,  1.96124238e-04]], dtype=float32)"
      ]
     },
     "execution_count": 23,
     "metadata": {},
     "output_type": "execute_result"
    }
   ],
   "source": [
    "# this is inverse of observed Fisher information, used in Laplace approximation\n",
    "qw.covariance().eval()"
   ]
  },
  {
   "cell_type": "code",
   "execution_count": 24,
   "metadata": {},
   "outputs": [
    {
     "data": {
      "text/plain": [
       "array([ 0.05904175,  0.07664416,  0.14998022, -0.05155813,  0.01417927],\n",
       "      dtype=float32)"
      ]
     },
     "execution_count": 24,
     "metadata": {},
     "output_type": "execute_result"
    }
   ],
   "source": [
    "qw.mean().eval()"
   ]
  },
  {
   "cell_type": "code",
   "execution_count": 25,
   "metadata": {},
   "outputs": [],
   "source": [
    "# qb.scale.eval()"
   ]
  },
  {
   "cell_type": "code",
   "execution_count": 26,
   "metadata": {},
   "outputs": [],
   "source": [
    "# qb.loc.eval()"
   ]
  },
  {
   "cell_type": "code",
   "execution_count": 27,
   "metadata": {},
   "outputs": [],
   "source": [
    "obs_fisher = np.linalg.inv(qw.covariance().eval()) / FLAGS.N"
   ]
  },
  {
   "cell_type": "code",
   "execution_count": 28,
   "metadata": {},
   "outputs": [
    {
     "name": "stdout",
     "output_type": "stream",
     "text": [
      "[[ 5.337559   -0.20389518 -0.53609824 -0.10656545  0.21635236]\n",
      " [-0.20389518  5.256472   -0.26836634  0.16735534 -0.07732766]\n",
      " [-0.53609824 -0.26836634  4.988152    0.28305554  0.08360918]\n",
      " [-0.10656545  0.16735534  0.28305554  5.0398054   0.11485842]\n",
      " [ 0.21635236 -0.07732766  0.08360919  0.11485842  5.1132436 ]]\n"
     ]
    }
   ],
   "source": [
    "print(obs_fisher)"
   ]
  },
  {
   "cell_type": "code",
   "execution_count": 29,
   "metadata": {},
   "outputs": [],
   "source": [
    "# y.log_prob requires argument of length y\n",
    "# construct a new variable representing candidate from y_rest\n",
    "# compute likelihood with autodiff\n",
    "\n",
    "X = tf.placeholder(tf.float32, [1, FLAGS.D])\n",
    "w = Normal(loc=tf.zeros(FLAGS.D), scale=tf.ones(FLAGS.D))\n",
    "y = OrdinalLogit(logits=ed.dot(X, w), cutpoints=cutpoints)   # b gets absorbed into cutpoints"
   ]
  },
  {
   "cell_type": "code",
   "execution_count": 30,
   "metadata": {
    "scrolled": true
   },
   "outputs": [],
   "source": [
    "y_next = tf.get_variable(\"y_next\", [1], dtype=dtypes.int32)"
   ]
  },
  {
   "cell_type": "code",
   "execution_count": 31,
   "metadata": {},
   "outputs": [],
   "source": [
    "y_next_hess = tf.hessians(y.log_prob(y_next.value()), w)[0]"
   ]
  },
  {
   "cell_type": "code",
   "execution_count": 32,
   "metadata": {},
   "outputs": [],
   "source": [
    "w_map = qw.mean().eval()"
   ]
  },
  {
   "cell_type": "code",
   "execution_count": 54,
   "metadata": {},
   "outputs": [],
   "source": [
    "# verify the mean function works, but we won't be using it after all\n",
    "for i in range(10):\n",
    "    y_mean = y.mean().eval(feed_dict={X: X_train[[i]], w: w_map, cutpoints: test_cutpoints})[0]\n",
    "    cumul_probs = y._cumul_probs().eval(feed_dict={X: X_train[[i]], w: w_map, cutpoints: test_cutpoints})[0]\n",
    "    probs = np.append(cumul_probs, 1) - np.append(0, cumul_probs)\n",
    "    brute_force_mean = (probs * np.arange(len(cumul_probs)+1)).sum()\n",
    "    assert np.allclose(y_mean, brute_force_mean)"
   ]
  },
  {
   "cell_type": "code",
   "execution_count": 70,
   "metadata": {},
   "outputs": [],
   "source": [
    "def new_point_info(X_new, y_new):\n",
    "    return -y_next_hess.eval(feed_dict={X: X_new, w: w_map, cutpoints: test_cutpoints, y_next: y_new})\n",
    "\n",
    "# TODO: make this more efficient (e.g. don't run all calls to new_point_info in separate sessions)\n",
    "def new_point_info_expected(X_new):\n",
    "    # integrate out y_next\n",
    "    cumul_probs = y._cumul_probs().eval(feed_dict={X: X_new, w: w_map, cutpoints: test_cutpoints})[0]\n",
    "    probs = np.append(cumul_probs, 1) - np.append(0, cumul_probs)\n",
    "    levels = np.arange(probs.size)\n",
    "    info_per_level = np.array([new_point_info(X_new, [level]) for level in levels])\n",
    "    return probs[:,np.newaxis,np.newaxis] * info_per_level\n",
    "\n",
    "## TODO: should initialize to the prior precision\n",
    "obs_fisher_2 = np.zeros((FLAGS.D, FLAGS.D))\n",
    "for i in range(len(X_train)):\n",
    "    obs_fisher_2 += new_point_info(X_train[[i]], y_train[[i]])"
   ]
  },
  {
   "cell_type": "code",
   "execution_count": 71,
   "metadata": {
    "scrolled": true
   },
   "outputs": [
    {
     "data": {
      "text/plain": [
       "array([[ 5.25789693, -0.22708986, -0.54864018, -0.11385049,  0.21941207],\n",
       "       [-0.22708966,  5.24304887, -0.26007441,  0.17728381, -0.08771229],\n",
       "       [-0.54864025, -0.2600744 ,  5.04271102,  0.28185857,  0.06379008],\n",
       "       [-0.11385067,  0.17728379,  0.28185847,  5.06006064,  0.11130712],\n",
       "       [ 0.2194122 , -0.08771193,  0.06378984,  0.11130714,  5.1265143 ]])"
      ]
     },
     "execution_count": 71,
     "metadata": {},
     "output_type": "execute_result"
    }
   ],
   "source": [
    "obs_fisher_2 / FLAGS.N"
   ]
  },
  {
   "cell_type": "code",
   "execution_count": 72,
   "metadata": {},
   "outputs": [
    {
     "data": {
      "text/plain": [
       "array([[ 0.19015397,  0.00823054,  0.02086208,  0.00276547, -0.0083246 ],\n",
       "       [ 0.00823054,  0.19140586,  0.01153103, -0.00688682,  0.00251253],\n",
       "       [ 0.02086208,  0.01153103,  0.2040432 , -0.01131527, -0.00379057],\n",
       "       [ 0.00276547, -0.00688682, -0.01131527,  0.19944596, -0.00451628],\n",
       "       [-0.0083246 ,  0.00251253, -0.00379057, -0.00451628,  0.19612424]],\n",
       "      dtype=float32)"
      ]
     },
     "execution_count": 72,
     "metadata": {},
     "output_type": "execute_result"
    }
   ],
   "source": [
    "np.linalg.inv(obs_fisher)"
   ]
  },
  {
   "cell_type": "code",
   "execution_count": 73,
   "metadata": {},
   "outputs": [
    {
     "data": {
      "text/plain": [
       "array([[ 0.0031,  0.001 ,  0.0006,  0.0003, -0.0001],\n",
       "       [ 0.001 ,  0.0006, -0.0003, -0.0003,  0.0004],\n",
       "       [ 0.0006, -0.0003, -0.0022,  0.0002,  0.0008],\n",
       "       [ 0.0003, -0.0003,  0.0002, -0.0008,  0.0001],\n",
       "       [-0.0001,  0.0004,  0.0008,  0.0001, -0.0005]])"
      ]
     },
     "execution_count": 73,
     "metadata": {},
     "output_type": "execute_result"
    }
   ],
   "source": [
    "np.round(np.linalg.inv(obs_fisher_2 / FLAGS.N) - np.linalg.inv(obs_fisher), 4)"
   ]
  },
  {
   "cell_type": "code",
   "execution_count": 74,
   "metadata": {},
   "outputs": [],
   "source": [
    "# Now let's implement item selection."
   ]
  },
  {
   "cell_type": "code",
   "execution_count": 75,
   "metadata": {},
   "outputs": [],
   "source": [
    "from collections import namedtuple\n",
    "\n",
    "OptCriteria = namedtuple('OptCriteria', ['trace', 'logdet', 'max_eigval'])\n",
    "\n",
    "# Lambda is the precision matrix\n",
    "# return measures of the variance, Lambda^{-1}\n",
    "def compute_opt_criteria(Lambda):\n",
    "    eigvals_Lambda = np.linalg.eigvals(Lambda)\n",
    "    # When there are not enough previous questions for full rank,\n",
    "    # some eigenvalues will be 0. Ensure numerical stability here.\n",
    "    # Originally chose threshold 1e-8, but sometimes an eigenvalue\n",
    "    # that should've been 0 exceeded this threshold.\n",
    "    # TODO: handle in a safer way.\n",
    "    eigvals_Lambda[eigvals_Lambda < 1e-6] = 1e-6\n",
    "    eigvals_Var = 1.0 / eigvals_Lambda\n",
    "    return OptCriteria(\n",
    "        trace = np.sum(eigvals_Var),\n",
    "        logdet = np.sum(np.log(eigvals_Var)),\n",
    "        max_eigval = np.max(eigvals_Var)\n",
    "    )\n",
    "\n",
    "opt_criteria_comparators = dict(\n",
    "    A = lambda o1, o2: o1.trace - o2.trace,\n",
    "    D = lambda o1, o2: o1.logdet - o2.logdet,\n",
    "    E = lambda o1, o2: o1.max_eigval - o2.max_eigval\n",
    ")\n",
    "\n",
    "def cmp_criteria_for(optimality_type):\n",
    "    return opt_criteria_comparators[optimality_type]\n"
   ]
  },
  {
   "cell_type": "code",
   "execution_count": 78,
   "metadata": {
    "scrolled": false
   },
   "outputs": [],
   "source": [
    "Lambda_prev = obs_fisher_2\n",
    "best_new, best_opt_criteria = None, None\n",
    "cmp_criteria = cmp_criteria_for('A')\n",
    "\n",
    "for i in range(min(100, FLAGS.N)):\n",
    "    X_cand = X_rest[[i]]\n",
    "    Lambda_cand = Lambda_prev + new_point_info_expected(X_cand)\n",
    "    opt_criteria = compute_opt_criteria(Lambda_cand)\n",
    "    \n",
    "    if best_opt_criteria is None or cmp_criteria(opt_criteria, best_opt_criteria) < 0:\n",
    "        best_new = i\n",
    "        best_opt_criteria = opt_criteria"
   ]
  },
  {
   "cell_type": "code",
   "execution_count": 79,
   "metadata": {},
   "outputs": [
    {
     "data": {
      "text/plain": [
       "(16,\n",
       " array([[ 5.46072614,  3.85437939, -5.98121874,  1.63681644, -5.38637542]]),\n",
       " array([4]))"
      ]
     },
     "execution_count": 79,
     "metadata": {},
     "output_type": "execute_result"
    }
   ],
   "source": [
    "best_new, X_rest[[best_new]], y_rest[[best_new]]"
   ]
  },
  {
   "cell_type": "code",
   "execution_count": null,
   "metadata": {},
   "outputs": [],
   "source": []
  }
 ],
 "metadata": {
  "kernelspec": {
   "display_name": "edward",
   "language": "python",
   "name": "edward"
  },
  "language_info": {
   "codemirror_mode": {
    "name": "ipython",
    "version": 3
   },
   "file_extension": ".py",
   "mimetype": "text/x-python",
   "name": "python",
   "nbconvert_exporter": "python",
   "pygments_lexer": "ipython3",
   "version": "3.6.5"
  }
 },
 "nbformat": 4,
 "nbformat_minor": 2
}
