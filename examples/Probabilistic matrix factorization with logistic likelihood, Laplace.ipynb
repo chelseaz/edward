{
 "cells": [
  {
   "cell_type": "code",
   "execution_count": 1,
   "metadata": {},
   "outputs": [],
   "source": [
    "from __future__ import absolute_import\n",
    "from __future__ import division\n",
    "from __future__ import print_function\n",
    "\n",
    "%matplotlib inline\n",
    "import edward as ed\n",
    "import matplotlib.pyplot as plt\n",
    "import numpy as np\n",
    "import tensorflow as tf\n",
    "\n",
    "from edward.models import Bernoulli, Normal"
   ]
  },
  {
   "cell_type": "code",
   "execution_count": 2,
   "metadata": {},
   "outputs": [],
   "source": [
    "class FLAGS:\n",
    "    N=50\n",
    "    M=60\n",
    "    D=3"
   ]
  },
  {
   "cell_type": "code",
   "execution_count": 3,
   "metadata": {},
   "outputs": [],
   "source": [
    "def build_toy_dataset(U, V, N, M, noise_std=0.1):\n",
    "  R = np.dot(np.transpose(U), V) + np.random.normal(0, noise_std, size=(N, M))\n",
    "  return (R > 0).astype(int)\n",
    "\n",
    "\n",
    "def get_indicators(N, M, prob_std=0.5):\n",
    "  ind = np.random.binomial(1, prob_std, (N, M))\n",
    "  return ind\n"
   ]
  },
  {
   "cell_type": "code",
   "execution_count": 4,
   "metadata": {
    "scrolled": true
   },
   "outputs": [
    {
     "name": "stderr",
     "output_type": "stream",
     "text": [
      "/Users/cyz/edward/edward/lib/python3.6/site-packages/edward/util/random_variables.py:52: FutureWarning: Conversion of the second argument of issubdtype from `float` to `np.floating` is deprecated. In future, it will be treated as `np.float64 == np.dtype(float).type`.\n",
      "  not np.issubdtype(value.dtype, np.float) and \\\n",
      "/Users/cyz/edward/edward/lib/python3.6/site-packages/edward/util/random_variables.py:53: FutureWarning: Conversion of the second argument of issubdtype from `int` to `np.signedinteger` is deprecated. In future, it will be treated as `np.int64 == np.dtype(int).type`.\n",
      "  not np.issubdtype(value.dtype, np.int) and \\\n",
      "/Users/cyz/edward/edward/lib/python3.6/site-packages/tensorflow/python/ops/gradients_impl.py:98: UserWarning: Converting sparse IndexedSlices to a dense Tensor of unknown shape. This may consume a large amount of memory.\n",
      "  \"Converting sparse IndexedSlices to a dense Tensor of unknown shape. \"\n"
     ]
    },
    {
     "name": "stdout",
     "output_type": "stream",
     "text": [
      "1000/1000 [100%] ██████████████████████████████ Elapsed: 2s | Loss: 765.582\n",
      "Mean squared error on test data:\n",
      "0.08409987\n"
     ]
    }
   ],
   "source": [
    "# true latent factors\n",
    "U_true = np.random.randn(FLAGS.D, FLAGS.N)\n",
    "V_true = np.random.randn(FLAGS.D, FLAGS.M)\n",
    "# add some structure to latent factors\n",
    "U_true[:,:FLAGS.N//2] += 0.5\n",
    "U_true[:,FLAGS.N//2:] -= 0.5\n",
    "V_true[:,:FLAGS.M//2] += 0.5\n",
    "V_true[:,FLAGS.M//2:] -= 0.5\n",
    "\n",
    "# DATA\n",
    "R_true = build_toy_dataset(U_true, V_true, FLAGS.N, FLAGS.M)\n",
    "I_train = get_indicators(FLAGS.N, FLAGS.M).astype(bool)\n",
    "\n",
    "# MODEL\n",
    "I = tf.placeholder(tf.bool, [FLAGS.N, FLAGS.M])\n",
    "U = Normal(loc=0.0, scale=1.0, sample_shape=[FLAGS.D, FLAGS.N])\n",
    "V = Normal(loc=0.0, scale=1.0, sample_shape=[FLAGS.D, FLAGS.M])\n",
    "# R = Normal(loc=tf.matmul(tf.transpose(U), V) * I,\n",
    "#            scale=tf.ones([FLAGS.N, FLAGS.M]))\n",
    "logits = tf.boolean_mask(tf.matmul(tf.transpose(U), V), I)\n",
    "R = Bernoulli(logits=logits)\n",
    "\n",
    "# INFERENCE\n",
    "qU = Normal(loc=tf.get_variable(\"qU/loc\", [FLAGS.D, FLAGS.N]),\n",
    "          scale=tf.nn.softplus(\n",
    "              tf.get_variable(\"qU/scale\", [FLAGS.D, FLAGS.N])))\n",
    "qV = Normal(loc=tf.get_variable(\"qV/loc\", [FLAGS.D, FLAGS.M]),\n",
    "          scale=tf.nn.softplus(\n",
    "              tf.get_variable(\"qV/scale\", [FLAGS.D, FLAGS.M])))\n",
    "\n",
    "R_train = R_true[I_train]\n",
    "inference = ed.Laplace({U: qU, V: qV}, data={R: R_train, I: I_train})\n",
    "inference.run()\n",
    "\n",
    "# CRITICISM\n",
    "qR = Bernoulli(logits=tf.boolean_mask(\n",
    "    Normal(loc=tf.matmul(tf.transpose(qU), qV), scale=tf.ones([FLAGS.N, FLAGS.M])), I))\n",
    "\n",
    "R_test = R_true[~I_train]\n",
    "print(\"Mean squared error on test data:\")\n",
    "print(ed.evaluate('mean_squared_error', data={qR: R_test, I: ~I_train}))"
   ]
  },
  {
   "cell_type": "code",
   "execution_count": 5,
   "metadata": {},
   "outputs": [
    {
     "data": {
      "image/png": "[encoded data removed]",
      "text/plain": [
       "<Figure size 432x288 with 1 Axes>"
      ]
     },
     "metadata": {
      "needs_background": "light"
     },
     "output_type": "display_data"
    }
   ],
   "source": [
    "plt.imshow(R_true, cmap='binary')\n",
    "plt.show()"
   ]
  },
  {
   "cell_type": "code",
   "execution_count": 6,
   "metadata": {},
   "outputs": [
    {
     "data": {
      "image/png": "[encoded data removed]",
      "text/plain": [
       "<Figure size 432x288 with 1 Axes>"
      ]
     },
     "metadata": {
      "needs_background": "light"
     },
     "output_type": "display_data"
    }
   ],
   "source": [
    "# R_est = tf.matmul(tf.transpose(qU), qV).eval()\n",
    "# R_est = Bernoulli(logits=tf.matmul(tf.transpose(qU), qV)).eval()\n",
    "# evaluate at posterior mean\n",
    "R_est = Bernoulli(logits=tf.matmul(tf.transpose(qU), qV)).mean().eval()\n",
    "plt.imshow(R_est, cmap='binary')\n",
    "plt.show()"
   ]
  },
  {
   "cell_type": "code",
   "execution_count": null,
   "metadata": {},
   "outputs": [],
   "source": []
  }
 ],
 "metadata": {
  "kernelspec": {
   "display_name": "edward",
   "language": "python",
   "name": "edward"
  },
  "language_info": {
   "codemirror_mode": {
    "name": "ipython",
    "version": 3
   },
   "file_extension": ".py",
   "mimetype": "text/x-python",
   "name": "python",
   "nbconvert_exporter": "python",
   "pygments_lexer": "ipython3",
   "version": "3.6.5"
  }
 },
 "nbformat": 4,
 "nbformat_minor": 2
}
