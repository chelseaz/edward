{
 "cells": [
  {
   "cell_type": "code",
   "execution_count": 1,
   "metadata": {},
   "outputs": [],
   "source": [
    "from __future__ import absolute_import\n",
    "from __future__ import division\n",
    "from __future__ import print_function\n",
    "\n",
    "%matplotlib inline\n",
    "import edward as ed\n",
    "import matplotlib.pyplot as plt\n",
    "import numpy as np\n",
    "import pandas as pd\n",
    "import tensorflow as tf\n",
    "\n",
    "from edward.models import Normal, Dirichlet"
   ]
  },
  {
   "cell_type": "code",
   "execution_count": 2,
   "metadata": {},
   "outputs": [],
   "source": [
    "from edward.models import RandomVariable\n",
    "from tensorflow.python.framework import dtypes\n",
    "from tensorflow.contrib.distributions import Distribution, NOT_REPARAMETERIZED\n",
    "\n",
    "# Inputs are matrices, but value of random variable is a vector \n",
    "# whose length is the number of revealed entries (data_size).\n",
    "# This is to accommodate a different number of cutpoints per question.\n",
    "class distributions_OrdinalLogit(Distribution):\n",
    "    def __init__(self, logits, cutpoints, indicators, name=\"OrdinalLogit\"):\n",
    "        self._logits = logits  # N x K tensor\n",
    "        self._cutpoints = cutpoints  # K x max(N_CUT_VEC) tensor\n",
    "        self._indicators = indicators  # N x K tensor\n",
    "        \n",
    "        parameters = dict(locals())\n",
    "        super(distributions_OrdinalLogit, self).__init__(\n",
    "            dtype=dtypes.int32,\n",
    "            reparameterization_type=NOT_REPARAMETERIZED,\n",
    "            validate_args=False,\n",
    "            allow_nan_stats=True,\n",
    "            parameters=parameters,\n",
    "            graph_parents=[self._logits, self._cutpoints, self._indicators],\n",
    "            name=name\n",
    "        )\n",
    "\n",
    "    def _cumul_probs(self):\n",
    "        # form a N x K x max(N_CUT_VEC) tensor representing sum of logits and cutpoints\n",
    "        # use broadcasting\n",
    "        logits_with_cutpoints = tf.expand_dims(self._logits, -1) + tf.expand_dims(self._cutpoints, 0)\n",
    "        # now subset to a data_size x max(N_CUT_VEC) array using indicators\n",
    "        select_logits_with_cutpoints = tf.boolean_mask(logits_with_cutpoints, self._indicators)\n",
    "        return tf.sigmoid(select_logits_with_cutpoints)  # data_size x max(N_CUT_VEC)\n",
    "        \n",
    "    def _log_prob(self, value):        \n",
    "        cumul_probs = self._cumul_probs()\n",
    "        data_size = tf.shape(cumul_probs)[0]\n",
    "        level_probs = tf.concat([cumul_probs, tf.expand_dims(tf.ones([data_size]), -1)], axis=1) - \\\n",
    "                        tf.concat([tf.expand_dims(tf.zeros([data_size]), -1), cumul_probs], axis=1)\n",
    "        levels = value\n",
    "        indices_2d = tf.transpose(tf.stack([tf.range(data_size), levels]))  # n x 2\n",
    "        selected_probs = tf.gather_nd(level_probs, indices_2d)\n",
    "        \n",
    "        return tf.reduce_sum(tf.log(selected_probs))\n",
    "    \n",
    "    def _sample_n(self, n, seed=None):\n",
    "        cumul_probs = self._cumul_probs()\n",
    "        data_size = tf.shape(cumul_probs)[0]\n",
    "        new_shape = [n, data_size]\n",
    "        sample_probs = tf.expand_dims(tf.random_uniform(new_shape), -1)\n",
    "        booleans = tf.greater(sample_probs, cumul_probs)  # using broadcasting\n",
    "        samples = tf.reduce_sum(tf.cast(booleans, dtype=dtypes.int32), axis=-1)\n",
    "        return samples\n",
    "    \n",
    "    def mean(self):\n",
    "        # Using the identity that the mean is \\sum_{i=0}^k P(X > i)\n",
    "        cumul_probs = self._cumul_probs()\n",
    "        means = tf.reduce_sum(1-cumul_probs, axis=1)\n",
    "        return means\n",
    "        \n",
    "\n",
    "def __init__(self, *args, **kwargs):\n",
    "    RandomVariable.__init__(self, *args, **kwargs)\n",
    "\n",
    "_name = 'OrdinalLogit'\n",
    "_candidate = distributions_OrdinalLogit\n",
    "__init__.__doc__ = _candidate.__init__.__doc__\n",
    "_globals = globals()\n",
    "_params = {'__doc__': _candidate.__doc__,\n",
    "           '__init__': __init__,\n",
    "           'support': 'countable'}\n",
    "_globals[_name] = type(_name, (RandomVariable, _candidate), _params)"
   ]
  },
  {
   "cell_type": "code",
   "execution_count": 3,
   "metadata": {},
   "outputs": [],
   "source": [
    "class FLAGS:\n",
    "    N=50\n",
    "    M=60\n",
    "    D=3\n",
    "    # length-M vector representing number of cutpoints per question\n",
    "#     N_CUT_VEC = np.repeat(5, M)\n",
    "    N_CUT_VEC = np.repeat(np.arange(3, 7)[:,np.newaxis], 15, axis=1).T.reshape(-1)"
   ]
  },
  {
   "cell_type": "code",
   "execution_count": 4,
   "metadata": {},
   "outputs": [],
   "source": [
    "def build_toy_dataset(U, V, N, M, max_val_vec, noise_std=0.1):\n",
    "    R = np.dot(np.transpose(U), V) + np.random.normal(0, noise_std, size=(N, M))\n",
    "    # use numpy broadcasting rule 1 in \n",
    "    # https://jakevdp.github.io/PythonDataScienceHandbook/02.05-computation-on-arrays-broadcasting.html\n",
    "    return np.round(np.clip(R, 0, max_val_vec)).astype(int)\n",
    "\n",
    "def get_indicators(N, M, prob_std=0.5):\n",
    "    ind = np.random.binomial(1, prob_std, (N, M))\n",
    "    return ind\n",
    "\n",
    "def logit(p):\n",
    "    return tf.log(p / (1-p))"
   ]
  },
  {
   "cell_type": "code",
   "execution_count": 5,
   "metadata": {
    "scrolled": true
   },
   "outputs": [
    {
     "name": "stderr",
     "output_type": "stream",
     "text": [
      "/Users/cyz/edward/edward/lib/python3.6/site-packages/edward/util/random_variables.py:52: FutureWarning: Conversion of the second argument of issubdtype from `float` to `np.floating` is deprecated. In future, it will be treated as `np.float64 == np.dtype(float).type`.\n",
      "  not np.issubdtype(value.dtype, np.float) and \\\n",
      "/Users/cyz/edward/edward/lib/python3.6/site-packages/edward/util/random_variables.py:53: FutureWarning: Conversion of the second argument of issubdtype from `int` to `np.signedinteger` is deprecated. In future, it will be treated as `np.int64 == np.dtype(int).type`.\n",
      "  not np.issubdtype(value.dtype, np.int) and \\\n"
     ]
    },
    {
     "name": "stdout",
     "output_type": "stream",
     "text": [
      "  10/1000 [  1%]                                ETA: 48s | Loss: 2906.588 "
     ]
    },
    {
     "name": "stderr",
     "output_type": "stream",
     "text": [
      "/Users/cyz/edward/edward/lib/python3.6/site-packages/tensorflow/python/ops/gradients_impl.py:98: UserWarning: Converting sparse IndexedSlices to a dense Tensor of unknown shape. This may consume a large amount of memory.\n",
      "  \"Converting sparse IndexedSlices to a dense Tensor of unknown shape. \"\n"
     ]
    },
    {
     "name": "stdout",
     "output_type": "stream",
     "text": [
      "1000/1000 [100%] ██████████████████████████████ Elapsed: 2s | Loss: 1814.321\n",
      "Mean squared error on test data:\n",
      "0.550262\n"
     ]
    }
   ],
   "source": [
    "ed.set_seed(2018)\n",
    "\n",
    "# true latent factors\n",
    "U_true = np.random.randn(FLAGS.D, FLAGS.N)\n",
    "V_true = np.random.randn(FLAGS.D, FLAGS.M)\n",
    "# add some structure to latent factors\n",
    "U_true[:,:FLAGS.N//2] += 0.5\n",
    "U_true[:,FLAGS.N//2:] -= 0.5\n",
    "V_true[:,:FLAGS.M//2] += 0.5\n",
    "V_true[:,FLAGS.M//2:] -= 0.5\n",
    "\n",
    "# DATA\n",
    "R_true = build_toy_dataset(U_true, V_true, FLAGS.N, FLAGS.M, FLAGS.N_CUT_VEC)\n",
    "I_train = get_indicators(FLAGS.N, FLAGS.M).astype(bool)\n",
    "R_train = R_true[I_train]\n",
    "\n",
    "# MODEL\n",
    "I = tf.placeholder(tf.float32, [FLAGS.N, FLAGS.M])\n",
    "U = Normal(loc=0.0, scale=1.0, sample_shape=[FLAGS.D, FLAGS.N])\n",
    "V = Normal(loc=0.0, scale=1.0, sample_shape=[FLAGS.D, FLAGS.M])\n",
    "# R = Normal(loc=tf.matmul(tf.transpose(U), V) * I,\n",
    "#            scale=tf.ones([FLAGS.N, FLAGS.M]))\n",
    "# R = Bernoulli(logits=tf.matmul(tf.transpose(U), V) * I)\n",
    "\n",
    "logits = tf.matmul(tf.transpose(U), V)\n",
    "\n",
    "# Using Dirichlet prior to define cutpoints, per rstanarm:\n",
    "# https://cran.r-project.org/web/packages/rstanarm/vignettes/polr.html\n",
    "all_ones = tf.ones(shape=(FLAGS.N_CUT_VEC.size, FLAGS.N_CUT_VEC.max()+1), dtype=dtypes.int64)\n",
    "all_zeros = tf.zeros(shape=all_ones.shape, dtype=dtypes.int64)\n",
    "range_per_row = tf.cumsum(all_ones, axis=1) - 1\n",
    "keep_one_mask = tf.less_equal(range_per_row, tf.expand_dims(FLAGS.N_CUT_VEC, 1))\n",
    "# inflate concentration parameters to get closer to uniform\n",
    "# if we don't reduce noise this way, ELBO optimization may not converge\n",
    "conc_multiple = 2\n",
    "concentration = tf.cast(tf.where(keep_one_mask, all_ones * conc_multiple, all_zeros), dtypes.float32)\n",
    "pi = Dirichlet(concentration)\n",
    "cumpi = tf.cumsum(pi, axis=1)\n",
    "cutpoints = logit(tf.minimum(cumpi, 1-1e-6))[:,:-1]\n",
    "# exclude the final cumulative probability of 1, ensure numerical stability\n",
    "# cutpoints has shape M x max(N_CUT_VEC)\n",
    "\n",
    "# In order to represent cutpoints for all questions in a single 2d array,\n",
    "# we are relying on cutpoint collapse\n",
    "# np.round(cutpoints.eval(), 1)\n",
    "\n",
    "R = OrdinalLogit(logits=logits, cutpoints=cutpoints, indicators=I)\n",
    "\n",
    "# INFERENCE\n",
    "qU = Normal(loc=tf.get_variable(\"qU/loc\", [FLAGS.D, FLAGS.N]),\n",
    "          scale=tf.nn.softplus(\n",
    "              tf.get_variable(\"qU/scale\", [FLAGS.D, FLAGS.N])))\n",
    "qV = Normal(loc=tf.get_variable(\"qV/loc\", [FLAGS.D, FLAGS.M]),\n",
    "          scale=tf.nn.softplus(\n",
    "              tf.get_variable(\"qV/scale\", [FLAGS.D, FLAGS.M])))\n",
    "\n",
    "# qpi = Dirichlet(tf.nn.softplus(\n",
    "#     tf.Variable(tf.ones([FLAGS.N_CUT+1]), name=\"qpi/concentration\")))\n",
    "# inference = ed.KLqp({U: qU, V: qV, pi: qpi}, data={R: R_train, I: I_train})\n",
    "\n",
    "# qa = Normal(loc = tf.get_variable(\"qa_loc\", [1]),\n",
    "#            scale = tf.nn.softplus(tf.get_variable(\"qa_scale\", [1])))\n",
    "# qb = Normal(loc = tf.get_variable(\"qb_loc\", [1]),\n",
    "#            scale = tf.nn.softplus(tf.get_variable(\"qb_scale\", [1])))\n",
    "# inference = ed.KLqp({U: qU, V: qV, a: qa, b: qb}, data={R: R_train, I: I_train})\n",
    "\n",
    "inference = ed.KLqp({U: qU, V: qV}, data={R: R_train, I: I_train})\n",
    "inference.run()\n",
    "\n",
    "# CRITICISM\n",
    "# qR = OrdinalLogit(\n",
    "#     logits=tf.boolean_mask(Normal(loc=tf.matmul(tf.transpose(qU), qV), scale=tf.ones([FLAGS.N, FLAGS.M])), I),\n",
    "#     cutpoints=cutpoints\n",
    "# )\n",
    "qR = OrdinalLogit(\n",
    "    logits=tf.matmul(tf.transpose(qU), qV),\n",
    "    cutpoints=cutpoints,\n",
    "    indicators=I\n",
    ")\n",
    "\n",
    "R_test = R_true[~I_train]\n",
    "print(\"Mean squared error on test data:\")\n",
    "print(ed.evaluate('mean_squared_error', data={qR: R_test, I: ~I_train}))"
   ]
  },
  {
   "cell_type": "code",
   "execution_count": 6,
   "metadata": {
    "scrolled": true
   },
   "outputs": [
    {
     "data": {
      "image/png": "[encoded data removed]",
      "text/plain": [
       "<Figure size 432x288 with 1 Axes>"
      ]
     },
     "metadata": {
      "needs_background": "light"
     },
     "output_type": "display_data"
    }
   ],
   "source": [
    "plt.imshow(R_true / FLAGS.N_CUT_VEC, cmap='binary')\n",
    "plt.show()"
   ]
  },
  {
   "cell_type": "code",
   "execution_count": 7,
   "metadata": {
    "scrolled": false
   },
   "outputs": [
    {
     "data": {
      "image/png": "[encoded data removed]",
      "text/plain": [
       "<Figure size 432x288 with 1 Axes>"
      ]
     },
     "metadata": {
      "needs_background": "light"
     },
     "output_type": "display_data"
    }
   ],
   "source": [
    "# evaluate at posterior mean\n",
    "R_est = OrdinalLogit(\n",
    "            logits=tf.matmul(tf.transpose(qU), qV),\n",
    "            cutpoints=cutpoints,\n",
    "            indicators=tf.ones(R_true.shape)\n",
    "        ).mean().eval().reshape(R_true.shape)\n",
    "plt.imshow(R_est / FLAGS.N_CUT_VEC, cmap='binary')\n",
    "plt.show()"
   ]
  },
  {
   "cell_type": "code",
   "execution_count": 8,
   "metadata": {},
   "outputs": [],
   "source": [
    "# Next: do inference on cutpoints since these will be used in item selection\n",
    "# Actually, posterior inference on cutpoints with VI results in infinite loss.\n",
    "# Currently using a single sample from Dirichlet prior,\n",
    "# since according to http://edwardlib.org/api/inference,\n",
    "# Latent variables can be defined in the model without any posterior inference over them. They are implicitly marginalized out with a single sample.\n",
    "# The sample seems to work better than the mean...\n"
   ]
  },
  {
   "cell_type": "code",
   "execution_count": null,
   "metadata": {},
   "outputs": [],
   "source": []
  }
 ],
 "metadata": {
  "kernelspec": {
   "display_name": "edward",
   "language": "python",
   "name": "edward"
  },
  "language_info": {
   "codemirror_mode": {
    "name": "ipython",
    "version": 3
   },
   "file_extension": ".py",
   "mimetype": "text/x-python",
   "name": "python",
   "nbconvert_exporter": "python",
   "pygments_lexer": "ipython3",
   "version": "3.6.5"
  }
 },
 "nbformat": 4,
 "nbformat_minor": 2
}
