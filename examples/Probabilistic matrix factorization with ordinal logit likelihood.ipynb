{
 "cells": [
  {
   "cell_type": "code",
   "execution_count": 1,
   "metadata": {},
   "outputs": [],
   "source": [
    "from __future__ import absolute_import\n",
    "from __future__ import division\n",
    "from __future__ import print_function\n",
    "\n",
    "%matplotlib inline\n",
    "import edward as ed\n",
    "import matplotlib.pyplot as plt\n",
    "import numpy as np\n",
    "import pandas as pd\n",
    "import tensorflow as tf\n",
    "\n",
    "from edward.models import Normal, Dirichlet"
   ]
  },
  {
   "cell_type": "code",
   "execution_count": 2,
   "metadata": {},
   "outputs": [],
   "source": [
    "from edward.models import RandomVariable\n",
    "from tensorflow.python.framework import dtypes\n",
    "from tensorflow.contrib.distributions import Distribution, NOT_REPARAMETERIZED\n",
    "\n",
    "class distributions_OrdinalLogit(Distribution):\n",
    "    def __init__(self, logits, cutpoints, name=\"OrdinalLogit\"):\n",
    "        self._logits = logits\n",
    "        self._cutpoints = cutpoints\n",
    "        \n",
    "        parameters = dict(locals())\n",
    "        super(distributions_OrdinalLogit, self).__init__(\n",
    "            dtype=dtypes.int32,\n",
    "            reparameterization_type=NOT_REPARAMETERIZED,\n",
    "            validate_args=False,\n",
    "            allow_nan_stats=True,\n",
    "            parameters=parameters,\n",
    "            graph_parents=[self._logits, self._cutpoints],\n",
    "            name=name\n",
    "        )\n",
    "\n",
    "    def _data_size(self):\n",
    "        return tf.size(self._logits)\n",
    "        \n",
    "    def _cumul_probs(self):\n",
    "        logits_with_cutpoints = tf.expand_dims(self._logits, -1) + self._cutpoints  # using broadcasting\n",
    "        return tf.sigmoid(logits_with_cutpoints)\n",
    "        \n",
    "    def _log_prob(self, value):        \n",
    "        cumul_probs = self._cumul_probs()\n",
    "        level_probs = tf.concat([cumul_probs, tf.expand_dims(tf.ones([self._data_size()]), -1)], axis=1) - \\\n",
    "                        tf.concat([tf.expand_dims(tf.zeros([self._data_size()]), -1), cumul_probs], axis=1)\n",
    "        levels = value\n",
    "        indices_2d = tf.transpose(tf.stack([tf.range(self._data_size()), levels]))  # n x 2\n",
    "        selected_probs = tf.gather_nd(level_probs, indices_2d)\n",
    "        \n",
    "        return tf.reduce_sum(tf.log(selected_probs))\n",
    "    \n",
    "    def _sample_n(self, n, seed=None):\n",
    "        cumul_probs = self._cumul_probs()\n",
    "        new_shape = [n, self._data_size()]\n",
    "        sample_probs = tf.expand_dims(tf.random_uniform(new_shape), -1)\n",
    "        booleans = tf.greater(sample_probs, cumul_probs)  # using broadcasting\n",
    "        samples = tf.reduce_sum(tf.cast(booleans, dtype=dtypes.int32), axis=-1)\n",
    "        return samples\n",
    "    \n",
    "    def mean(self):\n",
    "        # Using the identity that the mean is \\sum_{i=0}^k P(X > i)\n",
    "        cumul_probs = self._cumul_probs()\n",
    "        means = tf.reduce_sum(1-cumul_probs, axis=1)\n",
    "        return means\n",
    "        \n",
    "\n",
    "def __init__(self, *args, **kwargs):\n",
    "    RandomVariable.__init__(self, *args, **kwargs)\n",
    "\n",
    "_name = 'OrdinalLogit'\n",
    "_candidate = distributions_OrdinalLogit\n",
    "__init__.__doc__ = _candidate.__init__.__doc__\n",
    "_globals = globals()\n",
    "_params = {'__doc__': _candidate.__doc__,\n",
    "           '__init__': __init__,\n",
    "           'support': 'countable'}\n",
    "_globals[_name] = type(_name, (RandomVariable, _candidate), _params)"
   ]
  },
  {
   "cell_type": "code",
   "execution_count": 3,
   "metadata": {},
   "outputs": [],
   "source": [
    "class FLAGS:\n",
    "    N=50\n",
    "    M=60\n",
    "    D=3\n",
    "    N_CUT=5"
   ]
  },
  {
   "cell_type": "code",
   "execution_count": 4,
   "metadata": {},
   "outputs": [],
   "source": [
    "def build_toy_dataset(U, V, N, M, noise_std=0.1, max_val=5):\n",
    "    R = np.dot(np.transpose(U), V) + np.random.normal(0, noise_std, size=(N, M))\n",
    "    return np.round(np.clip(R, 0, max_val)).astype(int)\n",
    "\n",
    "\n",
    "def get_indicators(N, M, prob_std=0.5):\n",
    "    ind = np.random.binomial(1, prob_std, (N, M))\n",
    "    return ind\n",
    "\n",
    "def logit(p):\n",
    "    return tf.log(p / (1-p))"
   ]
  },
  {
   "cell_type": "code",
   "execution_count": 5,
   "metadata": {
    "scrolled": true
   },
   "outputs": [
    {
     "name": "stderr",
     "output_type": "stream",
     "text": [
      "/Users/cyz/edward/edward/lib/python3.6/site-packages/edward/util/random_variables.py:52: FutureWarning: Conversion of the second argument of issubdtype from `float` to `np.floating` is deprecated. In future, it will be treated as `np.float64 == np.dtype(float).type`.\n",
      "  not np.issubdtype(value.dtype, np.float) and \\\n",
      "/Users/cyz/edward/edward/lib/python3.6/site-packages/edward/util/random_variables.py:53: FutureWarning: Conversion of the second argument of issubdtype from `int` to `np.signedinteger` is deprecated. In future, it will be treated as `np.int64 == np.dtype(int).type`.\n",
      "  not np.issubdtype(value.dtype, np.int) and \\\n"
     ]
    },
    {
     "name": "stdout",
     "output_type": "stream",
     "text": [
      "  20/1000 [  2%]                                ETA: 21s | Loss: 2211.803"
     ]
    },
    {
     "name": "stderr",
     "output_type": "stream",
     "text": [
      "/Users/cyz/edward/edward/lib/python3.6/site-packages/tensorflow/python/ops/gradients_impl.py:98: UserWarning: Converting sparse IndexedSlices to a dense Tensor of unknown shape. This may consume a large amount of memory.\n",
      "  \"Converting sparse IndexedSlices to a dense Tensor of unknown shape. \"\n"
     ]
    },
    {
     "name": "stdout",
     "output_type": "stream",
     "text": [
      "1000/1000 [100%] ██████████████████████████████ Elapsed: 2s | Loss: 3064.239\n",
      "Mean squared error on test data:\n",
      "0.49656677\n"
     ]
    }
   ],
   "source": [
    "ed.set_seed(2018)\n",
    "\n",
    "# true latent factors\n",
    "U_true = np.random.randn(FLAGS.D, FLAGS.N)\n",
    "V_true = np.random.randn(FLAGS.D, FLAGS.M)\n",
    "# add some structure to latent factors\n",
    "U_true[:,:FLAGS.N//2] += 0.5\n",
    "U_true[:,FLAGS.N//2:] -= 0.5\n",
    "V_true[:,:FLAGS.M//2] += 0.5\n",
    "V_true[:,FLAGS.M//2:] -= 0.5\n",
    "\n",
    "# DATA\n",
    "R_true = build_toy_dataset(U_true, V_true, FLAGS.N, FLAGS.M, max_val=FLAGS.N_CUT)\n",
    "I_train = get_indicators(FLAGS.N, FLAGS.M).astype(bool)\n",
    "R_train = R_true[I_train]\n",
    "\n",
    "# MODEL\n",
    "I = tf.placeholder(tf.float32, [FLAGS.N, FLAGS.M])\n",
    "U = Normal(loc=0.0, scale=1.0, sample_shape=[FLAGS.D, FLAGS.N])\n",
    "V = Normal(loc=0.0, scale=1.0, sample_shape=[FLAGS.D, FLAGS.M])\n",
    "# R = Normal(loc=tf.matmul(tf.transpose(U), V) * I,\n",
    "#            scale=tf.ones([FLAGS.N, FLAGS.M]))\n",
    "# R = Bernoulli(logits=tf.matmul(tf.transpose(U), V) * I)\n",
    "\n",
    "logits = tf.boolean_mask(tf.matmul(tf.transpose(U), V), I)\n",
    "\n",
    "# Using Dirichlet prior to define cutpoints, per rstanarm:\n",
    "# https://cran.r-project.org/web/packages/rstanarm/vignettes/polr.html\n",
    "# Option 1: Flat Dirichlet prior\n",
    "pi = Dirichlet(tf.ones(FLAGS.N_CUT+1))  # level_probs would be a better name\n",
    "# Option 2: Use frequency in training set as prior counts\n",
    "# level_counts = pd.Series(R_train.reshape([-1])).value_counts().values\n",
    "# pi = Dirichlet(level_counts.astype(np.float32))\n",
    "# Option 3: Mean of flat Dirichlet prior\n",
    "# pi = Dirichlet(tf.ones(FLAGS.N_CUT+1)).mean()\n",
    "cutpoints = logit(tf.cumsum(pi))[:-1]  # exclude the final cumulative probability of 1\n",
    "\n",
    "# # Define cutpoints from prior suggested by Carpenter, without extra noise:\n",
    "# # https://github.com/stan-dev/stan/wiki/Prior-Choice-Recommendations\n",
    "# a = Normal(loc=(1-FLAGS.N_CUT)/2, scale=0.1, sample_shape=[1])\n",
    "# b = Normal(loc=1.0, scale=0.1, sample_shape=[1])\n",
    "# cutpoints = a + b * tf.cast(tf.range(FLAGS.N_CUT), dtypes.float32)\n",
    "\n",
    "# # Use fixed cutpoints (prior is point mass)\n",
    "# cutpoints = tf.cast(tf.constant(np.linspace(-4, 4, FLAGS.N_CUT)), dtypes.float32)\n",
    "\n",
    "R = OrdinalLogit(logits=logits, cutpoints=cutpoints)\n",
    "\n",
    "# INFERENCE\n",
    "qU = Normal(loc=tf.get_variable(\"qU/loc\", [FLAGS.D, FLAGS.N]),\n",
    "          scale=tf.nn.softplus(\n",
    "              tf.get_variable(\"qU/scale\", [FLAGS.D, FLAGS.N])))\n",
    "qV = Normal(loc=tf.get_variable(\"qV/loc\", [FLAGS.D, FLAGS.M]),\n",
    "          scale=tf.nn.softplus(\n",
    "              tf.get_variable(\"qV/scale\", [FLAGS.D, FLAGS.M])))\n",
    "\n",
    "# qpi = Dirichlet(tf.nn.softplus(\n",
    "#     tf.Variable(tf.ones([FLAGS.N_CUT+1]), name=\"qpi/concentration\")))\n",
    "# inference = ed.KLqp({U: qU, V: qV, pi: qpi}, data={R: R_train, I: I_train})\n",
    "\n",
    "# qa = Normal(loc = tf.get_variable(\"qa_loc\", [1]),\n",
    "#            scale = tf.nn.softplus(tf.get_variable(\"qa_scale\", [1])))\n",
    "# qb = Normal(loc = tf.get_variable(\"qb_loc\", [1]),\n",
    "#            scale = tf.nn.softplus(tf.get_variable(\"qb_scale\", [1])))\n",
    "# inference = ed.KLqp({U: qU, V: qV, a: qa, b: qb}, data={R: R_train, I: I_train})\n",
    "\n",
    "inference = ed.KLqp({U: qU, V: qV}, data={R: R_train, I: I_train})\n",
    "inference.run()\n",
    "\n",
    "# CRITICISM\n",
    "# qR = OrdinalLogit(\n",
    "#     logits=tf.boolean_mask(Normal(loc=tf.matmul(tf.transpose(qU), qV), scale=tf.ones([FLAGS.N, FLAGS.M])), I),\n",
    "#     cutpoints=cutpoints\n",
    "# )\n",
    "qR = OrdinalLogit(\n",
    "    logits=tf.boolean_mask(tf.matmul(tf.transpose(qU), qV), I),\n",
    "    cutpoints=cutpoints\n",
    ")\n",
    "\n",
    "R_test = R_true[~I_train]\n",
    "print(\"Mean squared error on test data:\")\n",
    "print(ed.evaluate('mean_squared_error', data={qR: R_test, I: ~I_train}))"
   ]
  },
  {
   "cell_type": "code",
   "execution_count": 6,
   "metadata": {
    "scrolled": true
   },
   "outputs": [
    {
     "data": {
      "image/png": "[encoded data removed]",
      "text/plain": [
       "<Figure size 432x288 with 1 Axes>"
      ]
     },
     "metadata": {
      "needs_background": "light"
     },
     "output_type": "display_data"
    }
   ],
   "source": [
    "plt.imshow(R_true / FLAGS.N_CUT, cmap='binary')\n",
    "plt.show()"
   ]
  },
  {
   "cell_type": "code",
   "execution_count": 7,
   "metadata": {
    "scrolled": false
   },
   "outputs": [
    {
     "data": {
      "image/png": "[encoded data removed]",
      "text/plain": [
       "<Figure size 432x288 with 1 Axes>"
      ]
     },
     "metadata": {
      "needs_background": "light"
     },
     "output_type": "display_data"
    }
   ],
   "source": [
    "# evaluate at posterior mean\n",
    "R_est = OrdinalLogit(\n",
    "            logits=tf.reshape(tf.matmul(tf.transpose(qU), qV), [-1]),\n",
    "            cutpoints=cutpoints\n",
    "        ).mean().eval().reshape(R_true.shape)\n",
    "plt.imshow(R_est / FLAGS.N_CUT, cmap='binary')\n",
    "plt.show()"
   ]
  },
  {
   "cell_type": "code",
   "execution_count": 8,
   "metadata": {},
   "outputs": [],
   "source": [
    "# Next: do inference on cutpoints since these will be used in item selection\n",
    "# Actually, posterior inference on cutpoints with VI results in infinite loss.\n",
    "# Currently using a single sample from Dirichlet prior,\n",
    "# since according to http://edwardlib.org/api/inference,\n",
    "# Latent variables can be defined in the model without any posterior inference over them. They are implicitly marginalized out with a single sample.\n",
    "# The sample seems to work better than the mean...\n"
   ]
  },
  {
   "cell_type": "code",
   "execution_count": null,
   "metadata": {},
   "outputs": [],
   "source": []
  }
 ],
 "metadata": {
  "kernelspec": {
   "display_name": "edward",
   "language": "python",
   "name": "edward"
  },
  "language_info": {
   "codemirror_mode": {
    "name": "ipython",
    "version": 3
   },
   "file_extension": ".py",
   "mimetype": "text/x-python",
   "name": "python",
   "nbconvert_exporter": "python",
   "pygments_lexer": "ipython3",
   "version": "3.6.5"
  }
 },
 "nbformat": 4,
 "nbformat_minor": 2
}
