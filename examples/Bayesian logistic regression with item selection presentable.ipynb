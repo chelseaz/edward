{
 "cells": [
  {
   "cell_type": "code",
   "execution_count": 1,
   "metadata": {},
   "outputs": [],
   "source": [
    "from __future__ import absolute_import\n",
    "from __future__ import division\n",
    "from __future__ import print_function\n",
    "\n",
    "%matplotlib inline\n",
    "import edward as ed\n",
    "import matplotlib.pyplot as plt\n",
    "import numpy as np\n",
    "import pprint\n",
    "import scipy\n",
    "import tensorflow as tf\n",
    "\n",
    "from sklearn.model_selection import train_test_split\n",
    "from edward.models import Bernoulli, Normal, MultivariateNormalTriL"
   ]
  },
  {
   "cell_type": "code",
   "execution_count": 2,
   "metadata": {},
   "outputs": [],
   "source": [
    "class FLAGS:\n",
    "    N=1000   # Number of data points\n",
    "    D=1     # Number of features"
   ]
  },
  {
   "cell_type": "code",
   "execution_count": 3,
   "metadata": {},
   "outputs": [],
   "source": [
    "# Generate covariates X (N x D matrix) and binary responses y (length-N vector)\n",
    "# Coefficient vector w (length-D vector) is randomly generated and private to this method\n",
    "def build_toy_dataset(N, D, noise_std=1):\n",
    "    X = np.random.uniform(-6, 6, size=(N, D))\n",
    "    w = np.random.uniform(-1, 1, size=D)\n",
    "    b = np.random.uniform(-4, 4)\n",
    "    epsilon = np.random.normal(0, noise_std, size=N)\n",
    "    y = (np.dot(X, w) + b + epsilon > 0).astype(int)\n",
    "    # note this is actually generated from a probit model\n",
    "    return X, y"
   ]
  },
  {
   "cell_type": "code",
   "execution_count": 4,
   "metadata": {},
   "outputs": [
    {
     "name": "stderr",
     "output_type": "stream",
     "text": [
      "/Users/cyz/edward/edward/lib/python3.6/site-packages/sklearn/model_selection/_split.py:2179: FutureWarning: From version 0.21, test_size will always complement train_size unless both are specified.\n",
      "  FutureWarning)\n",
      "/Users/cyz/edward/edward/lib/python3.6/site-packages/edward/util/random_variables.py:52: FutureWarning: Conversion of the second argument of issubdtype from `float` to `np.floating` is deprecated. In future, it will be treated as `np.float64 == np.dtype(float).type`.\n",
      "  not np.issubdtype(value.dtype, np.float) and \\\n",
      "/Users/cyz/edward/edward/lib/python3.6/site-packages/edward/util/random_variables.py:53: FutureWarning: Conversion of the second argument of issubdtype from `int` to `np.signedinteger` is deprecated. In future, it will be treated as `np.int64 == np.dtype(int).type`.\n",
      "  not np.issubdtype(value.dtype, np.int) and \\\n"
     ]
    },
    {
     "name": "stdout",
     "output_type": "stream",
     "text": [
      "1000/1000 [100%] ██████████████████████████████ Elapsed: 1s | Loss: 213.414\n"
     ]
    }
   ],
   "source": [
    "ed.set_seed(2018)\n",
    "\n",
    "# Generate all data at once from same model, then split it into two halves:\n",
    "# (X_train, y_train) represents existing data\n",
    "# (X_next, y_next) represents data not yet available\n",
    "# We will choose which observation to collect from X_next, using active learning\n",
    "X_all, y_all = build_toy_dataset(2*FLAGS.N, FLAGS.D)\n",
    "X_train, X_next, y_train, y_next = train_test_split(X_all, y_all, train_size=FLAGS.N)\n",
    "\n",
    "# Define model in edward (generate computation graph)\n",
    "X = tf.placeholder(tf.float32, [FLAGS.N, FLAGS.D])\n",
    "w = Normal(loc=tf.zeros(FLAGS.D), scale=tf.ones(FLAGS.D))\n",
    "b = Normal(loc=tf.zeros([1]), scale=tf.ones([1]))\n",
    "y = Bernoulli(logits=ed.dot(X, w) + b)\n",
    "\n",
    "# Define Laplace approximation for posterior\n",
    "qw = MultivariateNormalTriL(\n",
    "    loc=tf.Variable(tf.random_normal([FLAGS.D])),\n",
    "    scale_tril=tf.Variable(tf.random_normal([FLAGS.D, FLAGS.D])))\n",
    "qb = Normal(\n",
    "    loc=tf.Variable(tf.zeros([1])), \n",
    "    scale=tf.Variable(tf.ones([1])))  # should probably initialize to random values\n",
    "\n",
    "# Perform inference\n",
    "inference = ed.Laplace({w: qw, b: qb}, data={X: X_train, y: y_train})\n",
    "inference.initialize(n_print=10, n_iter=600)\n",
    "inference.run()\n"
   ]
  },
  {
   "cell_type": "code",
   "execution_count": 5,
   "metadata": {},
   "outputs": [
    {
     "data": {
      "image/png": "[encoded data removed]",
      "text/plain": [
       "<Figure size 576x432 with 1 Axes>"
      ]
     },
     "metadata": {
      "needs_background": "light"
     },
     "output_type": "display_data"
    }
   ],
   "source": [
    "# Visualize samples from posterior\n",
    "if FLAGS.D == 1:\n",
    "    n_posterior_samples = 10\n",
    "\n",
    "    w_post = qw.sample(n_posterior_samples).eval()\n",
    "    b_post = qb.sample(n_posterior_samples).eval()\n",
    "\n",
    "    plt.rcParams[\"figure.figsize\"] = (8,6)\n",
    "    plt.scatter(X_train, y_train)\n",
    "\n",
    "    inputs = np.linspace(-6, 6, num=400)\n",
    "    for ns in range(n_posterior_samples):\n",
    "        output = scipy.special.expit(np.dot(inputs[:,np.newaxis], w_post[ns]) + b_post[ns])\n",
    "        plt.plot(inputs, output)\n",
    "\n",
    "    plt.show()"
   ]
  },
  {
   "cell_type": "code",
   "execution_count": 6,
   "metadata": {},
   "outputs": [
    {
     "data": {
      "text/plain": [
       "(array([0.7170981], dtype=float32), array([3.8250415], dtype=float32))"
      ]
     },
     "execution_count": 6,
     "metadata": {},
     "output_type": "execute_result"
    }
   ],
   "source": [
    "# Laplace approximation is centered at MAP estimate\n",
    "# Retrieve MAP estimates for w and b\n",
    "w_map = qw.mean().eval()\n",
    "b_map = qb.loc.eval()\n",
    "(w_map, b_map)"
   ]
  },
  {
   "cell_type": "code",
   "execution_count": 7,
   "metadata": {},
   "outputs": [],
   "source": [
    "# Now we compute the Fisher information contribution from a new observation.\n",
    "# We use edward autodifferentiation to compute the Hessian involved.\n",
    "# Let's redefine the model with X, y representing a single new observation\n",
    "X = tf.placeholder(tf.float32, [1, FLAGS.D])\n",
    "w = Normal(loc=tf.zeros(FLAGS.D), scale=tf.ones(FLAGS.D))\n",
    "b = Normal(loc=tf.zeros([1]), scale=tf.ones([1]))\n",
    "y = Bernoulli(logits=ed.dot(X, w) + b)\n",
    "\n",
    "# Construct a new variable representing the eventual value of y (symbolically)\n",
    "# We need this to express the likelihood of y, so edward can take its Hessian\n",
    "y_next = tf.get_variable(\"y_next\", [1])\n",
    "y_next_hess = tf.hessians(y.log_prob(y_next.value()), w)[0]"
   ]
  },
  {
   "cell_type": "code",
   "execution_count": 8,
   "metadata": {},
   "outputs": [],
   "source": [
    "# Fisher information contribution from X_new\n",
    "def new_point_info(X_new):\n",
    "    # hessian doesn't involve y_next, so don't need to feed it in\n",
    "    return -y_next_hess.eval(feed_dict={X: X_new, w: w_map, b: b_map})"
   ]
  },
  {
   "cell_type": "code",
   "execution_count": 9,
   "metadata": {},
   "outputs": [],
   "source": [
    "# Compute Fisher info from existing data\n",
    "observed_fisher_info = np.zeros((FLAGS.D, FLAGS.D))\n",
    "for i in range(len(X_train)):\n",
    "    observed_fisher_info += new_point_info(X_train[[i]])"
   ]
  },
  {
   "cell_type": "code",
   "execution_count": 10,
   "metadata": {},
   "outputs": [
    {
     "data": {
      "text/plain": [
       "array([[1196.39753766]])"
      ]
     },
     "execution_count": 10,
     "metadata": {},
     "output_type": "execute_result"
    }
   ],
   "source": [
    "observed_fisher_info"
   ]
  },
  {
   "cell_type": "code",
   "execution_count": 11,
   "metadata": {},
   "outputs": [],
   "source": [
    "# This code is more complicated than it needs to be - \n",
    "# it's copied and pasted from my active learning stuff.\n",
    "# Basically it compares Fisher information matrices using \n",
    "# optimal design criteria (A-, D- or E-optimality);\n",
    "# see opt_criteria_comparators.\n",
    "\n",
    "from collections import namedtuple\n",
    "\n",
    "OptCriteria = namedtuple('OptCriteria', ['trace', 'logdet', 'max_eigval'])\n",
    "\n",
    "# Lambda is the precision matrix\n",
    "# return measures of the variance, Lambda^{-1}\n",
    "def compute_opt_criteria(Lambda):\n",
    "    eigvals_Lambda = np.linalg.eigvals(Lambda)\n",
    "    # When there are not enough previous questions for full rank,\n",
    "    # some eigenvalues will be 0. Ensure numerical stability here.\n",
    "    # Originally chose threshold 1e-8, but sometimes an eigenvalue\n",
    "    # that should've been 0 exceeded this threshold.\n",
    "    # TODO: handle in a safer way.\n",
    "    eigvals_Lambda[eigvals_Lambda < 1e-6] = 1e-6\n",
    "    eigvals_Var = 1.0 / eigvals_Lambda\n",
    "    return OptCriteria(\n",
    "        trace = np.sum(eigvals_Var),\n",
    "        logdet = np.sum(np.log(eigvals_Var)),\n",
    "        max_eigval = np.max(eigvals_Var)\n",
    "    )\n",
    "\n",
    "opt_criteria_comparators = dict(\n",
    "    A = lambda o1, o2: o1.trace - o2.trace,\n",
    "    D = lambda o1, o2: o1.logdet - o2.logdet,\n",
    "    E = lambda o1, o2: o1.max_eigval - o2.max_eigval\n",
    ")\n",
    "\n",
    "def cmp_criteria_for(optimality_type):\n",
    "    return opt_criteria_comparators[optimality_type]\n"
   ]
  },
  {
   "cell_type": "code",
   "execution_count": 12,
   "metadata": {},
   "outputs": [],
   "source": [
    "# Item selection\n",
    "# Which observation from (X_next, y_next) will contribute most information,\n",
    "# according to A-optimality? (Minimize trace of inverse Fisher information)\n",
    "Lambda_prev = observed_fisher_info\n",
    "best_new, best_opt_criteria = None, None\n",
    "cmp_criteria = cmp_criteria_for('A')\n",
    "\n",
    "for i in range(FLAGS.N):\n",
    "    X_cand = X_next[[i]]\n",
    "    Lambda_cand = Lambda_prev + new_point_info(X_cand)\n",
    "    opt_criteria = compute_opt_criteria(Lambda_cand)\n",
    "    \n",
    "    if best_opt_criteria is None or cmp_criteria(opt_criteria, best_opt_criteria) < 0:\n",
    "        best_new = i\n",
    "        best_opt_criteria = opt_criteria"
   ]
  },
  {
   "cell_type": "code",
   "execution_count": 13,
   "metadata": {},
   "outputs": [
    {
     "data": {
      "text/plain": [
       "(483, array([[-5.99008197]]))"
      ]
     },
     "execution_count": 13,
     "metadata": {},
     "output_type": "execute_result"
    }
   ],
   "source": [
    "best_new, X_next[[best_new]]"
   ]
  },
  {
   "cell_type": "code",
   "execution_count": null,
   "metadata": {},
   "outputs": [],
   "source": []
  }
 ],
 "metadata": {
  "kernelspec": {
   "display_name": "edward",
   "language": "python",
   "name": "edward"
  },
  "language_info": {
   "codemirror_mode": {
    "name": "ipython",
    "version": 3
   },
   "file_extension": ".py",
   "mimetype": "text/x-python",
   "name": "python",
   "nbconvert_exporter": "python",
   "pygments_lexer": "ipython3",
   "version": "3.6.5"
  }
 },
 "nbformat": 4,
 "nbformat_minor": 2
}
